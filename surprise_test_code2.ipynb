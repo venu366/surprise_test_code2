{
 "cells": [
  {
   "cell_type": "code",
   "execution_count": null,
   "id": "62c6265e",
   "metadata": {},
   "outputs": [],
   "source": [
    "#2Q\n",
    "\n",
    "if len(string) == 0 :\n",
    "    print(\"EMTPY STRING\");\n",
    "for i in string:\n",
    "    if string.count(i) == 1:\n",
    "        fnc += i\n",
    "        break\n",
    "    else:\n",
    "        index += 1\n",
    "if index == len(string)-1 :\n",
    "    return -1\n",
    "else:\n",
    "    print(\"non-repeating character is : \", fnc)"
   ]
  }
 ],
 "metadata": {
  "kernelspec": {
   "display_name": "Python 3 (ipykernel)",
   "language": "python",
   "name": "python3"
  },
  "language_info": {
   "codemirror_mode": {
    "name": "ipython",
    "version": 3
   },
   "file_extension": ".py",
   "mimetype": "text/x-python",
   "name": "python",
   "nbconvert_exporter": "python",
   "pygments_lexer": "ipython3",
   "version": "3.9.12"
  }
 },
 "nbformat": 4,
 "nbformat_minor": 5
}
